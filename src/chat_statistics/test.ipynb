{
 "cells": [
  {
   "cell_type": "code",
   "execution_count": 137,
   "id": "20a552c6-97e0-479e-9707-fe6680c521ab",
   "metadata": {},
   "outputs": [],
   "source": [
    "import json\n",
    "from src.data import DATA_DIR\n",
    "from hazm import word_tokenize\n",
    "from src.utils.io import read_file, read_tel_messages, remove_stopwords\n",
    "from hazm import Normalizer, word_tokenize, sent_tokenize\n",
    "from collections import Counter\n",
    "import pickle\n",
    "from collections import defaultdict\n",
    "import seaborn as sns"
   ]
  },
  {
   "cell_type": "code",
   "execution_count": 4,
   "id": "d37fd015-dc22-4fe0-b49a-d4982f547a44",
   "metadata": {},
   "outputs": [
    {
     "name": "stderr",
     "output_type": "stream",
     "text": [
      "2022-03-21 18:45:06.798 | INFO     | src.utils.io:read_file:22 - Loding data from text...\n"
     ]
    }
   ],
   "source": [
    "stopwords = read_file(DATA_DIR/'persian_stop_words.txt').split('\\n')"
   ]
  },
  {
   "cell_type": "code",
   "execution_count": 5,
   "id": "c2f15430-8c5d-4da3-a237-663942ce1870",
   "metadata": {},
   "outputs": [],
   "source": [
    "with open(DATA_DIR / 'cs_stack.json') as fp:\n",
    "    data = json.load(fp)"
   ]
  },
  {
   "cell_type": "markdown",
   "id": "e0fbe3d4-be72-4a8a-bbc1-01518586d1bc",
   "metadata": {},
   "source": [
    "# "
   ]
  },
  {
   "cell_type": "markdown",
   "id": "f722aa4c-c23e-4be9-9bbd-6c123147b1b2",
   "metadata": {
    "tags": []
   },
   "source": [
    "# Detect Qustions"
   ]
  },
  {
   "cell_type": "code",
   "execution_count": 105,
   "id": "c6fde36a-bf28-49dd-afd3-379d79c19440",
   "metadata": {},
   "outputs": [],
   "source": [
    "def get_text_from_tel_msg(tel_msg):\n",
    "    if isinstance(tel_msg['text'], str):\n",
    "        msg_ = tel_msg['text']\n",
    "        \n",
    "    else:\n",
    "        msg_ = \"\"\n",
    "        for sub_msg in tel_msg['text']:\n",
    "            if isinstance(sub_msg, str):\n",
    "                msg_ += \" \" + sub_msg\n",
    "                \n",
    "            elif 'text' in sub_msg:\n",
    "                msg_ += \" \" + sub_msg['text']\n",
    "    \n",
    "    return msg_"
   ]
  },
  {
   "cell_type": "code",
   "execution_count": 148,
   "id": "7efec45d-2996-4a14-b135-59ea28eba475",
   "metadata": {},
   "outputs": [],
   "source": [
    "def search_in_lines(text: str=None, text_path: str=None,search_val: list=None) -> list:\n",
    "    \"\"\"\n",
    "    :param text: A text containig multi lines\n",
    "    :param text_path: Path of a text containig multi lines\n",
    "    :param search_val: If one of these values exist in setence, that sentece will be returned\n",
    "    \"\"\"\n",
    "    sentences = []\n",
    "    if text is not None:\n",
    "        text_ = text\n",
    "    \n",
    "    elif text_path is not None:\n",
    "        with open(text_path) as fp:\n",
    "            text_ = fp.read()\n",
    "            \n",
    "    else:\n",
    "        raise InputError\n",
    "\n",
    "    textlines = sent_tokenize(text_)\n",
    "    for sen in textlines:\n",
    "        if (sum([i in sen for i in search_val]) > 0) and (len(sen) >= 3):\n",
    "            sentences.append(sen)                \n",
    "    return sentences"
   ]
  },
  {
   "cell_type": "code",
   "execution_count": 149,
   "id": "42c87106-5cda-4666-8a94-8392a571bad7",
   "metadata": {
    "tags": []
   },
   "outputs": [],
   "source": [
    "data_text = []\n",
    "question_ids = defaultdict(bool)\n",
    "\n",
    "for msg in data['messages']:\n",
    "    msg_ = get_text_from_tel_msg(msg)\n",
    "    \n",
    "    msg_ = remove_stopwords(msg_, stopwords)\n",
    "    if sum([i in msg_ for i in ['؟', '?']]) > 0:\n",
    "        data_text.extend(search_in_lines(text=msg_, search_val=['؟', '?']))\n",
    "        question_ids[msg['id']] = True"
   ]
  },
  {
   "cell_type": "code",
   "execution_count": 108,
   "id": "dffe41ff-49f0-4c19-9dc4-0ae59df50f97",
   "metadata": {},
   "outputs": [
    {
     "data": {
      "text/plain": [
       "[('؟', 3097),\n",
       " ('سلام', 623),\n",
       " ('دوستان', 479),\n",
       " ('نصب', 423),\n",
       " ('،', 377),\n",
       " ('ببخشید', 193),\n",
       " ('کردم', 179),\n",
       " (')', 176),\n",
       " ('کلاس', 172),\n",
       " ('?', 169)]"
      ]
     },
     "execution_count": 108,
     "metadata": {},
     "output_type": "execute_result"
    }
   ],
   "source": [
    "Tokens = word_tokenize(\" \".join(data_text))\n",
    "Counter(Tokens).most_common(10)"
   ]
  },
  {
   "cell_type": "code",
   "execution_count": 109,
   "id": "cec9851d-8b3e-4c4e-bb35-0904448af59e",
   "metadata": {},
   "outputs": [
    {
     "data": {
      "text/plain": [
       "3538"
      ]
     },
     "execution_count": 109,
     "metadata": {},
     "output_type": "execute_result"
    }
   ],
   "source": [
    "question = list(filter(lambda text: ('?' in text) or ('؟' in text), data_text))\n",
    "len(question)"
   ]
  },
  {
   "cell_type": "code",
   "execution_count": 110,
   "id": "c0c51903-1ce0-44ca-80dd-d34b1b56914d",
   "metadata": {
    "tags": []
   },
   "outputs": [
    {
     "name": "stderr",
     "output_type": "stream",
     "text": [
      "2022-03-21 19:17:38.766 | INFO     | src.utils.io:read_json:12 - Loding data from json...\n",
      "2022-03-21 19:17:38.909 | INFO     | src.utils.io:read_tel_messages:53 - Extracting chat messages from loaded data...\n"
     ]
    }
   ],
   "source": [
    "text_message = read_tel_messages(file_path=DATA_DIR / 'cs_stack.json', normalize=True)"
   ]
  },
  {
   "cell_type": "markdown",
   "id": "8b26cc57-6dcb-4d59-9161-13827ad6d36b",
   "metadata": {
    "tags": []
   },
   "source": [
    "# "
   ]
  },
  {
   "cell_type": "markdown",
   "id": "2e208aeb-6f77-406a-a93d-691a87159674",
   "metadata": {
    "jp-MarkdownHeadingCollapsed": true,
    "tags": []
   },
   "source": [
    "# Train a Model"
   ]
  },
  {
   "cell_type": "code",
   "execution_count": 11,
   "id": "bb57e149-abca-408f-82c8-22ae092df8cf",
   "metadata": {},
   "outputs": [],
   "source": [
    "import pandas as pd\n",
    "from sklearn.cluster import KMeans\n",
    "from sklearn.linear_model import LogisticRegression"
   ]
  },
  {
   "cell_type": "code",
   "execution_count": 12,
   "id": "48aa85be-7e87-4a3b-b8c4-dc82a857913f",
   "metadata": {},
   "outputs": [
    {
     "name": "stderr",
     "output_type": "stream",
     "text": [
      "2022-03-21 18:45:14.204 | INFO     | src.utils.io:read_file:22 - Loding data from text...\n"
     ]
    }
   ],
   "source": [
    "feature = read_file(DATA_DIR / 'feature.txt').split('\\n')"
   ]
  },
  {
   "cell_type": "code",
   "execution_count": 13,
   "id": "03750af1-2adf-4493-bce9-cf3749208b1b",
   "metadata": {},
   "outputs": [],
   "source": [
    "data_text_BOG = []\n",
    "for text in text_message:\n",
    "    list_ = [0] * len(feature)\n",
    "    for ind, item in enumerate(feature):\n",
    "        if item in text:\n",
    "            list_[ind] = 1\n",
    "    data_text_BOG.append(list_)"
   ]
  },
  {
   "cell_type": "code",
   "execution_count": 14,
   "id": "6c925488-37f4-4ba7-b076-076fcfae5208",
   "metadata": {},
   "outputs": [
    {
     "data": {
      "text/html": [
       "<div>\n",
       "<style scoped>\n",
       "    .dataframe tbody tr th:only-of-type {\n",
       "        vertical-align: middle;\n",
       "    }\n",
       "\n",
       "    .dataframe tbody tr th {\n",
       "        vertical-align: top;\n",
       "    }\n",
       "\n",
       "    .dataframe thead th {\n",
       "        text-align: right;\n",
       "    }\n",
       "</style>\n",
       "<table border=\"1\" class=\"dataframe\">\n",
       "  <thead>\n",
       "    <tr style=\"text-align: right;\">\n",
       "      <th></th>\n",
       "      <th>؟</th>\n",
       "      <th>دوستان</th>\n",
       "      <th>نصب</th>\n",
       "      <th>ببخشید</th>\n",
       "      <th>کلاس</th>\n",
       "      <th>?</th>\n",
       "      <th>ثبت</th>\n",
       "      <th>کار</th>\n",
       "      <th>مشکل</th>\n",
       "      <th>چی</th>\n",
       "      <th>...</th>\n",
       "      <th>دسترسی</th>\n",
       "      <th>مگه</th>\n",
       "      <th>رفع</th>\n",
       "      <th>سیستم</th>\n",
       "      <th>جلسات</th>\n",
       "      <th>نمیاد</th>\n",
       "      <th>لطفا</th>\n",
       "      <th>منظورتون</th>\n",
       "      <th>کمک</th>\n",
       "      <th>کنم</th>\n",
       "    </tr>\n",
       "  </thead>\n",
       "  <tbody>\n",
       "    <tr>\n",
       "      <th>0</th>\n",
       "      <td>0</td>\n",
       "      <td>0</td>\n",
       "      <td>0</td>\n",
       "      <td>0</td>\n",
       "      <td>0</td>\n",
       "      <td>0</td>\n",
       "      <td>0</td>\n",
       "      <td>0</td>\n",
       "      <td>0</td>\n",
       "      <td>0</td>\n",
       "      <td>...</td>\n",
       "      <td>0</td>\n",
       "      <td>0</td>\n",
       "      <td>0</td>\n",
       "      <td>0</td>\n",
       "      <td>0</td>\n",
       "      <td>0</td>\n",
       "      <td>0</td>\n",
       "      <td>0</td>\n",
       "      <td>0</td>\n",
       "      <td>0</td>\n",
       "    </tr>\n",
       "    <tr>\n",
       "      <th>1</th>\n",
       "      <td>0</td>\n",
       "      <td>0</td>\n",
       "      <td>0</td>\n",
       "      <td>0</td>\n",
       "      <td>0</td>\n",
       "      <td>0</td>\n",
       "      <td>0</td>\n",
       "      <td>0</td>\n",
       "      <td>0</td>\n",
       "      <td>0</td>\n",
       "      <td>...</td>\n",
       "      <td>0</td>\n",
       "      <td>0</td>\n",
       "      <td>0</td>\n",
       "      <td>0</td>\n",
       "      <td>0</td>\n",
       "      <td>0</td>\n",
       "      <td>0</td>\n",
       "      <td>0</td>\n",
       "      <td>0</td>\n",
       "      <td>0</td>\n",
       "    </tr>\n",
       "    <tr>\n",
       "      <th>2</th>\n",
       "      <td>1</td>\n",
       "      <td>1</td>\n",
       "      <td>0</td>\n",
       "      <td>0</td>\n",
       "      <td>0</td>\n",
       "      <td>0</td>\n",
       "      <td>0</td>\n",
       "      <td>0</td>\n",
       "      <td>0</td>\n",
       "      <td>1</td>\n",
       "      <td>...</td>\n",
       "      <td>0</td>\n",
       "      <td>0</td>\n",
       "      <td>0</td>\n",
       "      <td>0</td>\n",
       "      <td>0</td>\n",
       "      <td>0</td>\n",
       "      <td>0</td>\n",
       "      <td>0</td>\n",
       "      <td>0</td>\n",
       "      <td>1</td>\n",
       "    </tr>\n",
       "    <tr>\n",
       "      <th>3</th>\n",
       "      <td>0</td>\n",
       "      <td>0</td>\n",
       "      <td>0</td>\n",
       "      <td>0</td>\n",
       "      <td>0</td>\n",
       "      <td>0</td>\n",
       "      <td>0</td>\n",
       "      <td>0</td>\n",
       "      <td>0</td>\n",
       "      <td>0</td>\n",
       "      <td>...</td>\n",
       "      <td>0</td>\n",
       "      <td>0</td>\n",
       "      <td>0</td>\n",
       "      <td>0</td>\n",
       "      <td>0</td>\n",
       "      <td>0</td>\n",
       "      <td>0</td>\n",
       "      <td>0</td>\n",
       "      <td>0</td>\n",
       "      <td>0</td>\n",
       "    </tr>\n",
       "    <tr>\n",
       "      <th>4</th>\n",
       "      <td>0</td>\n",
       "      <td>0</td>\n",
       "      <td>0</td>\n",
       "      <td>0</td>\n",
       "      <td>0</td>\n",
       "      <td>0</td>\n",
       "      <td>0</td>\n",
       "      <td>0</td>\n",
       "      <td>0</td>\n",
       "      <td>0</td>\n",
       "      <td>...</td>\n",
       "      <td>0</td>\n",
       "      <td>0</td>\n",
       "      <td>0</td>\n",
       "      <td>0</td>\n",
       "      <td>0</td>\n",
       "      <td>0</td>\n",
       "      <td>0</td>\n",
       "      <td>0</td>\n",
       "      <td>0</td>\n",
       "      <td>0</td>\n",
       "    </tr>\n",
       "  </tbody>\n",
       "</table>\n",
       "<p>5 rows × 51 columns</p>\n",
       "</div>"
      ],
      "text/plain": [
       "   ؟  دوستان  نصب  ببخشید  کلاس  ?  ثبت  کار  مشکل  چی  ...  دسترسی  مگه  رفع  \\\n",
       "0  0       0    0       0     0  0    0    0     0   0  ...       0    0    0   \n",
       "1  0       0    0       0     0  0    0    0     0   0  ...       0    0    0   \n",
       "2  1       1    0       0     0  0    0    0     0   1  ...       0    0    0   \n",
       "3  0       0    0       0     0  0    0    0     0   0  ...       0    0    0   \n",
       "4  0       0    0       0     0  0    0    0     0   0  ...       0    0    0   \n",
       "\n",
       "   سیستم  جلسات  نمیاد  لطفا  منظورتون  کمک  کنم  \n",
       "0      0      0      0     0         0    0    0  \n",
       "1      0      0      0     0         0    0    0  \n",
       "2      0      0      0     0         0    0    1  \n",
       "3      0      0      0     0         0    0    0  \n",
       "4      0      0      0     0         0    0    0  \n",
       "\n",
       "[5 rows x 51 columns]"
      ]
     },
     "execution_count": 14,
     "metadata": {},
     "output_type": "execute_result"
    }
   ],
   "source": [
    "df = pd.DataFrame(data_text_BOG, columns=feature)\n",
    "df.head()"
   ]
  },
  {
   "cell_type": "code",
   "execution_count": 15,
   "id": "c8ce29ff-0513-43c8-90d3-81798d4fe54e",
   "metadata": {},
   "outputs": [],
   "source": [
    "kmeans = KMeans(n_clusters=2, random_state=0).fit(df)"
   ]
  },
  {
   "cell_type": "code",
   "execution_count": 16,
   "id": "d5afd2c3-ec50-43fb-b4c6-6534c342ee53",
   "metadata": {},
   "outputs": [],
   "source": [
    "clf = LogisticRegression(random_state=0).fit(data_text_BOG, kmeans.labels_)"
   ]
  },
  {
   "cell_type": "code",
   "execution_count": 17,
   "id": "1b32f113-7892-4c76-a49f-1624c7e976ce",
   "metadata": {
    "tags": []
   },
   "outputs": [
    {
     "data": {
      "text/plain": [
       "array([0], dtype=int32)"
      ]
     },
     "execution_count": 17,
     "metadata": {},
     "output_type": "execute_result"
    }
   ],
   "source": [
    "clf.predict([data_text_BOG[2]])"
   ]
  },
  {
   "cell_type": "code",
   "execution_count": 18,
   "id": "4954552c-b851-4b83-9153-3920b04bcf3e",
   "metadata": {},
   "outputs": [],
   "source": [
    "file_path = DATA_DIR / 'finalized_model.sav'\n",
    "pickle.dump(clf, open(file_path, 'wb'))"
   ]
  },
  {
   "cell_type": "markdown",
   "id": "a0d63872-9917-44c6-8b39-8e87efb70664",
   "metadata": {},
   "source": [
    "# "
   ]
  },
  {
   "cell_type": "markdown",
   "id": "33a5bdf0-8d57-4834-9ef3-af35add4ae64",
   "metadata": {
    "tags": []
   },
   "source": [
    "# Replies Statistics"
   ]
  },
  {
   "cell_type": "code",
   "execution_count": 112,
   "id": "fe612834-565d-40a7-b247-a9d31f155a62",
   "metadata": {},
   "outputs": [],
   "source": [
    "def Search_in_sent(text, search_val: list=None):\n",
    "    return sum([i in text for i in search_val]) > 0"
   ]
  },
  {
   "cell_type": "code",
   "execution_count": 113,
   "id": "ec133f20-bcb0-4ec9-9c0c-ff0ea4d634ec",
   "metadata": {},
   "outputs": [],
   "source": [
    "def get_text_from_tel_msg(tel_msg):\n",
    "    if isinstance(tel_msg['text'], str):\n",
    "        msg_ = tel_msg['text']\n",
    "        \n",
    "    else:\n",
    "        msg_ = \"\"\n",
    "        for sub_msg in tel_msg['text']:\n",
    "            if isinstance(sub_msg, str):\n",
    "                msg_ += \" \" + sub_msg\n",
    "                \n",
    "            elif 'text' in sub_msg:\n",
    "                msg_ += \" \" + sub_msg['text']\n",
    "    \n",
    "    return msg_"
   ]
  },
  {
   "cell_type": "code",
   "execution_count": 114,
   "id": "87b21d67-efc9-4886-a1a0-6dcc00e1cb25",
   "metadata": {},
   "outputs": [],
   "source": [
    "message_ids = {}\n",
    "for ind, msg in enumerate(data['messages']):\n",
    "    message_ids[msg['id']] = ind"
   ]
  },
  {
   "cell_type": "code",
   "execution_count": 180,
   "id": "dd999bc3-a902-4e35-a382-11a58809dba7",
   "metadata": {},
   "outputs": [],
   "source": [
    "users = defaultdict(dict)\n",
    "for msg in data['messages']:\n",
    "    if not 'reply_to_message_id' in msg:\n",
    "        continue\n",
    "    \n",
    "    if not msg['reply_to_message_id'] in message_ids:\n",
    "        continue\n",
    "        \n",
    "    replied_msg_id = message_ids[msg['reply_to_message_id']]\n",
    "    \n",
    "    msg_ = get_text_from_tel_msg(data['messages'][replied_msg_id])\n",
    "    if not Search_in_sent(msg_, search_val=['؟', '?']):\n",
    "        continue\n",
    "        \n",
    "    users[msg['from_id']]['Name'] = f\"{msg['from']}\"\n",
    "    \n",
    "    if 'Replies' in users[msg['from_id']]:\n",
    "        users[msg['from_id']]['Replies'] += [replied_msg_id]\n",
    "\n",
    "    else:\n",
    "        users[msg['from_id']]['Replies'] = [replied_msg_id]"
   ]
  },
  {
   "cell_type": "code",
   "execution_count": 181,
   "id": "1c939166-fbe5-4a1e-88f8-95f4b4009b50",
   "metadata": {
    "tags": []
   },
   "outputs": [],
   "source": [
    "# {users[i]['Name']:len(users[i]['Replies']) for i in users}"
   ]
  },
  {
   "cell_type": "code",
   "execution_count": 182,
   "id": "821e8e59-e6bd-454e-8ac9-a6e0216cc24d",
   "metadata": {
    "tags": []
   },
   "outputs": [],
   "source": [
    "reply_stat = defaultdict(list)\n",
    "for i in users:\n",
    "    reply_stat[len(users[i]['Replies'])] += [users[i]['Name']]"
   ]
  },
  {
   "cell_type": "code",
   "execution_count": 183,
   "id": "40eae8cb-f287-4720-ae71-6b4c7bc12c91",
   "metadata": {},
   "outputs": [],
   "source": [
    "Num = 8\n",
    "top_users = []\n",
    "\n",
    "for i in sorted(reply_stat, reverse=True):\n",
    "    top_users += [(*reply_stat[i], i)]\n",
    "    \n",
    "    if len(top_users) >= Num:\n",
    "        break\n",
    "        \n",
    "top_users = dict(top_users)"
   ]
  },
  {
   "cell_type": "code",
   "execution_count": 184,
   "id": "961845d9-eef0-473b-b11c-e83226198b9b",
   "metadata": {},
   "outputs": [
    {
     "data": {
      "text/plain": [
       "<AxesSubplot:>"
      ]
     },
     "execution_count": 184,
     "metadata": {},
     "output_type": "execute_result"
    },
    {
     "data": {
      "image/png": "[encoded data removed]",
      "text/plain": [
       "<Figure size 432x288 with 1 Axes>"
      ]
     },
     "metadata": {
      "needs_background": "light"
     },
     "output_type": "display_data"
    }
   ],
   "source": [
    "sns.barplot(y=list(top_users.keys()), x=list(top_users.values()))"
   ]
  },
  {
   "cell_type": "code",
   "execution_count": 185,
   "id": "15bb8a87-468f-46f4-a7c7-48ba7b7aab01",
   "metadata": {},
   "outputs": [],
   "source": [
    "import pandas as pd"
   ]
  },
  {
   "cell_type": "code",
   "execution_count": 199,
   "id": "fe864432-6c01-42bf-985b-ac0789518bad",
   "metadata": {
    "tags": []
   },
   "outputs": [],
   "source": [
    "a = pd.DataFrame((len(users[i]['Replies']) for i in users),\n",
    "index=(users[i]['Name'] for i in users), columns=['a']).sort_values(0, ascending=False)"
   ]
  },
  {
   "cell_type": "code",
   "execution_count": 201,
   "id": "ae7ca75f-5976-4a28-ba6f-9773187cd52c",
   "metadata": {},
   "outputs": [
    {
     "data": {
      "text/html": [
       "<div>\n",
       "<style scoped>\n",
       "    .dataframe tbody tr th:only-of-type {\n",
       "        vertical-align: middle;\n",
       "    }\n",
       "\n",
       "    .dataframe tbody tr th {\n",
       "        vertical-align: top;\n",
       "    }\n",
       "\n",
       "    .dataframe thead th {\n",
       "        text-align: right;\n",
       "    }\n",
       "</style>\n",
       "<table border=\"1\" class=\"dataframe\">\n",
       "  <thead>\n",
       "    <tr style=\"text-align: right;\">\n",
       "      <th></th>\n",
       "      <th>a</th>\n",
       "    </tr>\n",
       "  </thead>\n",
       "  <tbody>\n",
       "    <tr>\n",
       "      <th>None</th>\n",
       "      <td>5</td>\n",
       "    </tr>\n",
       "    <tr>\n",
       "      <th>🇩🇪hwsyn.si🇩🇪</th>\n",
       "      <td>1</td>\n",
       "    </tr>\n",
       "    <tr>\n",
       "      <th>Ali Bayat Mokhtari</th>\n",
       "      <td>36</td>\n",
       "    </tr>\n",
       "    <tr>\n",
       "      <th>mhmd</th>\n",
       "      <td>1</td>\n",
       "    </tr>\n",
       "    <tr>\n",
       "      <th>Korosh</th>\n",
       "      <td>69</td>\n",
       "    </tr>\n",
       "  </tbody>\n",
       "</table>\n",
       "</div>"
      ],
      "text/plain": [
       "                     a\n",
       "None                 5\n",
       "🇩🇪hwsyn.si🇩🇪         1\n",
       "Ali Bayat Mokhtari  36\n",
       "mhmd                 1\n",
       "Korosh              69"
      ]
     },
     "execution_count": 201,
     "metadata": {},
     "output_type": "execute_result"
    }
   ],
   "source": [
    "a.head()"
   ]
  },
  {
   "cell_type": "code",
   "execution_count": 203,
   "id": "a58efd68-b8a0-4481-a1ba-2ad51df8e22b",
   "metadata": {},
   "outputs": [
    {
     "ename": "AttributeError",
     "evalue": "'list' object has no attribute 'head'",
     "output_type": "error",
     "traceback": [
      "\u001b[0;31m---------------------------------------------------------------------------\u001b[0m",
      "\u001b[0;31mAttributeError\u001b[0m                            Traceback (most recent call last)",
      "Input \u001b[0;32mIn [203]\u001b[0m, in \u001b[0;36m<cell line: 2>\u001b[0;34m()\u001b[0m\n\u001b[1;32m      1\u001b[0m a \u001b[38;5;241m=\u001b[39m [i \u001b[38;5;28;01mfor\u001b[39;00m i \u001b[38;5;129;01min\u001b[39;00m \u001b[38;5;28mrange\u001b[39m(\u001b[38;5;241m100\u001b[39m)]\n\u001b[0;32m----> 2\u001b[0m \u001b[43ma\u001b[49m\u001b[38;5;241;43m.\u001b[39;49m\u001b[43mhead\u001b[49m()\n",
      "\u001b[0;31mAttributeError\u001b[0m: 'list' object has no attribute 'head'"
     ]
    }
   ],
   "source": [
    "a = [i for i in range(100)]\n",
    "a.head()"
   ]
  },
  {
   "cell_type": "code",
   "execution_count": null,
   "id": "e393dd0f-157e-42e6-8a1b-8bf42a3b561c",
   "metadata": {},
   "outputs": [],
   "source": []
  }
 ],
 "metadata": {
  "kernelspec": {
   "display_name": "Python 3 (ipykernel)",
   "language": "python",
   "name": "python3"
  },
  "language_info": {
   "codemirror_mode": {
    "name": "ipython",
    "version": 3
   },
   "file_extension": ".py",
   "mimetype": "text/x-python",
   "name": "python",
   "nbconvert_exporter": "python",
   "pygments_lexer": "ipython3",
   "version": "3.8.12"
  }
 },
 "nbformat": 4,
 "nbformat_minor": 5
}
